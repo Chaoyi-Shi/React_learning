{
 "cells": [
  {
   "cell_type": "code",
   "execution_count": 10,
   "metadata": {},
   "outputs": [],
   "source": [
    "import pandas as pd\n",
    "\n",
    "# 使用适当的参数来逐块读取大型CSV文件\n",
    "chunk_size = 100000  # 每次读取的行数\n",
    "column_to_delete1 = 'delta'  # 要删除的列名\n",
    "column_to_delete2 = 'delta2'  # 要删除的列名\n",
    "columne_to_delete3=\"lengthofday\" # 要删除的列名\n",
    "\n",
    "# 创建一个新文件来存储结果\n",
    "with open('modify_continental.csv', 'w') as output_file:\n",
    "    for chunk in pd.read_csv('/Users/steven/Desktop/React/Study/csvfile/continental.csv', chunksize=chunk_size):\n",
    "        # 删除列\n",
    "        chunk = chunk.drop(columns=[column_to_delete1, column_to_delete2,columne_to_delete3])\n",
    "\n",
    "        # 将处理后的数据写入新文件\n",
    "        chunk.to_csv(output_file, header=True, index=False, mode='a')\n"
   ]
  }
 ],
 "metadata": {
  "kernelspec": {
   "display_name": "Python 3",
   "language": "python",
   "name": "python3"
  },
  "language_info": {
   "codemirror_mode": {
    "name": "ipython",
    "version": 3
   },
   "file_extension": ".py",
   "mimetype": "text/x-python",
   "name": "python",
   "nbconvert_exporter": "python",
   "pygments_lexer": "ipython3",
   "version": "3.11.3"
  },
  "orig_nbformat": 4
 },
 "nbformat": 4,
 "nbformat_minor": 2
}
